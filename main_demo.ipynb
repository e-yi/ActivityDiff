# ActivityDiff Demo

This notebook demonstrates the use of ActivityDiff. 

First, download the following files to the same directory as this notebook:
- Pre-trained diffusion model (`epoch_064.ckpt`)
- MPNN classifiers (`P15056.pth`, `Q02750.pth`)

## Demos:
1. **P15056 classifier-guided generation** - Generate active molecules
2. **Q02750 fragment-based generation** - Generate molecules with fragment constraints